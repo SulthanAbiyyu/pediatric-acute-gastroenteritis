{
 "cells": [
  {
   "cell_type": "code",
   "execution_count": 1,
   "metadata": {},
   "outputs": [],
   "source": [
    "import pandas as pd"
   ]
  },
  {
   "cell_type": "code",
   "execution_count": 2,
   "metadata": {},
   "outputs": [],
   "source": [
    "METADATA_PATH = \"../data/GSE69529_metadata.csv\"\n",
    "TPMDATA_PATH = \"../data/GSE69529_TPM_genesymbol.csv\"\n",
    "\n",
    "meta = pd.read_csv(METADATA_PATH)\n",
    "tpm = pd.read_csv(TPMDATA_PATH)"
   ]
  },
  {
   "cell_type": "code",
   "execution_count": 3,
   "metadata": {},
   "outputs": [
    {
     "data": {
      "text/html": [
       "<div>\n",
       "<style scoped>\n",
       "    .dataframe tbody tr th:only-of-type {\n",
       "        vertical-align: middle;\n",
       "    }\n",
       "\n",
       "    .dataframe tbody tr th {\n",
       "        vertical-align: top;\n",
       "    }\n",
       "\n",
       "    .dataframe thead th {\n",
       "        text-align: right;\n",
       "    }\n",
       "</style>\n",
       "<table border=\"1\" class=\"dataframe\">\n",
       "  <thead>\n",
       "    <tr style=\"text-align: right;\">\n",
       "      <th></th>\n",
       "      <th>lib_id</th>\n",
       "      <th>sample_name</th>\n",
       "      <th>infection_group</th>\n",
       "      <th>age, months</th>\n",
       "      <th>age_group</th>\n",
       "      <th>who_score</th>\n",
       "      <th>sex</th>\n",
       "      <th>height, m</th>\n",
       "      <th>weight, kg</th>\n",
       "      <th>wbc, 10^6/L</th>\n",
       "      <th>...</th>\n",
       "      <th>lymphocytes, 10^6/L</th>\n",
       "      <th>monocytes, 10^6/L</th>\n",
       "      <th>eosinophils, 10^6/L</th>\n",
       "      <th>basophils, 10^6/L</th>\n",
       "      <th>red blood cell, 10^6/uL</th>\n",
       "      <th>platelets, cells/uL</th>\n",
       "      <th>highest_temp</th>\n",
       "      <th>duration_days</th>\n",
       "      <th>days_past_onset</th>\n",
       "      <th>rotavirus vaccine doses</th>\n",
       "    </tr>\n",
       "  </thead>\n",
       "  <tbody>\n",
       "    <tr>\n",
       "      <th>0</th>\n",
       "      <td>lib6081</td>\n",
       "      <td>CO061</td>\n",
       "      <td>HC</td>\n",
       "      <td>11</td>\n",
       "      <td>&lt;2y</td>\n",
       "      <td>Control</td>\n",
       "      <td>female</td>\n",
       "      <td>0.9</td>\n",
       "      <td>12.7</td>\n",
       "      <td>10330</td>\n",
       "      <td>...</td>\n",
       "      <td>3900</td>\n",
       "      <td>480</td>\n",
       "      <td>280</td>\n",
       "      <td>110</td>\n",
       "      <td>3.98</td>\n",
       "      <td>370890</td>\n",
       "      <td>36.5</td>\n",
       "      <td>NaN</td>\n",
       "      <td>NaN</td>\n",
       "      <td>2</td>\n",
       "    </tr>\n",
       "    <tr>\n",
       "      <th>1</th>\n",
       "      <td>lib6105</td>\n",
       "      <td>CO062</td>\n",
       "      <td>HC</td>\n",
       "      <td>48</td>\n",
       "      <td>2y+</td>\n",
       "      <td>Control</td>\n",
       "      <td>female</td>\n",
       "      <td>0.91</td>\n",
       "      <td>13.0</td>\n",
       "      <td>10330</td>\n",
       "      <td>...</td>\n",
       "      <td>3900</td>\n",
       "      <td>480</td>\n",
       "      <td>280</td>\n",
       "      <td>110</td>\n",
       "      <td>3.98</td>\n",
       "      <td>370890</td>\n",
       "      <td>36.6</td>\n",
       "      <td>NaN</td>\n",
       "      <td>NaN</td>\n",
       "      <td>0</td>\n",
       "    </tr>\n",
       "    <tr>\n",
       "      <th>2</th>\n",
       "      <td>lib6129</td>\n",
       "      <td>CO063</td>\n",
       "      <td>HC</td>\n",
       "      <td>48</td>\n",
       "      <td>2y+</td>\n",
       "      <td>Control</td>\n",
       "      <td>female</td>\n",
       "      <td>0.9</td>\n",
       "      <td>14.9</td>\n",
       "      <td>6500</td>\n",
       "      <td>...</td>\n",
       "      <td>3480</td>\n",
       "      <td>420</td>\n",
       "      <td>310</td>\n",
       "      <td>50</td>\n",
       "      <td>4.14</td>\n",
       "      <td>379000</td>\n",
       "      <td>36.5</td>\n",
       "      <td>NaN</td>\n",
       "      <td>NaN</td>\n",
       "      <td>0</td>\n",
       "    </tr>\n",
       "    <tr>\n",
       "      <th>3</th>\n",
       "      <td>lib6153</td>\n",
       "      <td>CO024</td>\n",
       "      <td>HC</td>\n",
       "      <td>15</td>\n",
       "      <td>&lt;2y</td>\n",
       "      <td>Control</td>\n",
       "      <td>male</td>\n",
       "      <td>0.77</td>\n",
       "      <td>11.8</td>\n",
       "      <td>11310</td>\n",
       "      <td>...</td>\n",
       "      <td>5900</td>\n",
       "      <td>580</td>\n",
       "      <td>180</td>\n",
       "      <td>100</td>\n",
       "      <td>3.46</td>\n",
       "      <td>261000</td>\n",
       "      <td>36.6</td>\n",
       "      <td>NaN</td>\n",
       "      <td>NaN</td>\n",
       "      <td>2</td>\n",
       "    </tr>\n",
       "    <tr>\n",
       "      <th>4</th>\n",
       "      <td>lib6177</td>\n",
       "      <td>CO013</td>\n",
       "      <td>HC</td>\n",
       "      <td>16</td>\n",
       "      <td>&lt;2y</td>\n",
       "      <td>Control</td>\n",
       "      <td>male</td>\n",
       "      <td>1.2</td>\n",
       "      <td>15.0</td>\n",
       "      <td>5570</td>\n",
       "      <td>...</td>\n",
       "      <td>3800</td>\n",
       "      <td>30</td>\n",
       "      <td>20</td>\n",
       "      <td>80</td>\n",
       "      <td>4.75</td>\n",
       "      <td>370940</td>\n",
       "      <td>35.7</td>\n",
       "      <td>NaN</td>\n",
       "      <td>NaN</td>\n",
       "      <td>2</td>\n",
       "    </tr>\n",
       "  </tbody>\n",
       "</table>\n",
       "<p>5 rows × 21 columns</p>\n",
       "</div>"
      ],
      "text/plain": [
       "    lib_id sample_name infection_group  age, months age_group who_score  \\\n",
       "0  lib6081       CO061              HC           11       <2y   Control   \n",
       "1  lib6105       CO062              HC           48       2y+   Control   \n",
       "2  lib6129       CO063              HC           48       2y+   Control   \n",
       "3  lib6153       CO024              HC           15       <2y   Control   \n",
       "4  lib6177       CO013              HC           16       <2y   Control   \n",
       "\n",
       "      sex height, m  weight, kg  wbc, 10^6/L  ...  lymphocytes, 10^6/L  \\\n",
       "0  female       0.9        12.7        10330  ...                 3900   \n",
       "1  female      0.91        13.0        10330  ...                 3900   \n",
       "2  female       0.9        14.9         6500  ...                 3480   \n",
       "3    male      0.77        11.8        11310  ...                 5900   \n",
       "4    male       1.2        15.0         5570  ...                 3800   \n",
       "\n",
       "   monocytes, 10^6/L  eosinophils, 10^6/L  basophils, 10^6/L  \\\n",
       "0                480                  280                110   \n",
       "1                480                  280                110   \n",
       "2                420                  310                 50   \n",
       "3                580                  180                100   \n",
       "4                 30                   20                 80   \n",
       "\n",
       "   red blood cell, 10^6/uL  platelets, cells/uL  highest_temp  duration_days  \\\n",
       "0                     3.98               370890          36.5            NaN   \n",
       "1                     3.98               370890          36.6            NaN   \n",
       "2                     4.14               379000          36.5            NaN   \n",
       "3                     3.46               261000          36.6            NaN   \n",
       "4                     4.75               370940          35.7            NaN   \n",
       "\n",
       "   days_past_onset  rotavirus vaccine doses  \n",
       "0              NaN                        2  \n",
       "1              NaN                        0  \n",
       "2              NaN                        0  \n",
       "3              NaN                        2  \n",
       "4              NaN                        2  \n",
       "\n",
       "[5 rows x 21 columns]"
      ]
     },
     "execution_count": 3,
     "metadata": {},
     "output_type": "execute_result"
    }
   ],
   "source": [
    "meta.head()"
   ]
  },
  {
   "cell_type": "code",
   "execution_count": 4,
   "metadata": {},
   "outputs": [
    {
     "data": {
      "text/html": [
       "<div>\n",
       "<style scoped>\n",
       "    .dataframe tbody tr th:only-of-type {\n",
       "        vertical-align: middle;\n",
       "    }\n",
       "\n",
       "    .dataframe tbody tr th {\n",
       "        vertical-align: top;\n",
       "    }\n",
       "\n",
       "    .dataframe thead th {\n",
       "        text-align: right;\n",
       "    }\n",
       "</style>\n",
       "<table border=\"1\" class=\"dataframe\">\n",
       "  <thead>\n",
       "    <tr style=\"text-align: right;\">\n",
       "      <th></th>\n",
       "      <th>HGNC symbol</th>\n",
       "      <th>CT032</th>\n",
       "      <th>CT056</th>\n",
       "      <th>CA711</th>\n",
       "      <th>CA714</th>\n",
       "      <th>CA772</th>\n",
       "      <th>CA805</th>\n",
       "      <th>CA807</th>\n",
       "      <th>CA584</th>\n",
       "      <th>CA595</th>\n",
       "      <th>...</th>\n",
       "      <th>CA709</th>\n",
       "      <th>CA710</th>\n",
       "      <th>CA712</th>\n",
       "      <th>CA753</th>\n",
       "      <th>CA781</th>\n",
       "      <th>CA785</th>\n",
       "      <th>CA787</th>\n",
       "      <th>CA789</th>\n",
       "      <th>CA793</th>\n",
       "      <th>CA804</th>\n",
       "    </tr>\n",
       "  </thead>\n",
       "  <tbody>\n",
       "    <tr>\n",
       "      <th>0</th>\n",
       "      <td>TSPAN6</td>\n",
       "      <td>0.609483</td>\n",
       "      <td>1.138307</td>\n",
       "      <td>0.303372</td>\n",
       "      <td>0.309331</td>\n",
       "      <td>0.702532</td>\n",
       "      <td>0.548189</td>\n",
       "      <td>0.791069</td>\n",
       "      <td>0.294699</td>\n",
       "      <td>0.268829</td>\n",
       "      <td>...</td>\n",
       "      <td>0.142801</td>\n",
       "      <td>0.773038</td>\n",
       "      <td>0.143074</td>\n",
       "      <td>0.153090</td>\n",
       "      <td>0.145910</td>\n",
       "      <td>0.000000</td>\n",
       "      <td>0.157393</td>\n",
       "      <td>0.151015</td>\n",
       "      <td>0.166901</td>\n",
       "      <td>0.000000</td>\n",
       "    </tr>\n",
       "    <tr>\n",
       "      <th>1</th>\n",
       "      <td>DPM1</td>\n",
       "      <td>14.752962</td>\n",
       "      <td>14.124655</td>\n",
       "      <td>8.381786</td>\n",
       "      <td>12.252395</td>\n",
       "      <td>8.657229</td>\n",
       "      <td>10.722663</td>\n",
       "      <td>13.693996</td>\n",
       "      <td>10.087624</td>\n",
       "      <td>10.911048</td>\n",
       "      <td>...</td>\n",
       "      <td>10.684007</td>\n",
       "      <td>12.777021</td>\n",
       "      <td>12.943259</td>\n",
       "      <td>8.159890</td>\n",
       "      <td>8.062634</td>\n",
       "      <td>8.480573</td>\n",
       "      <td>13.776863</td>\n",
       "      <td>8.123168</td>\n",
       "      <td>14.201050</td>\n",
       "      <td>8.307122</td>\n",
       "    </tr>\n",
       "    <tr>\n",
       "      <th>2</th>\n",
       "      <td>SCYL3</td>\n",
       "      <td>9.438976</td>\n",
       "      <td>13.877988</td>\n",
       "      <td>8.696817</td>\n",
       "      <td>12.435085</td>\n",
       "      <td>8.241027</td>\n",
       "      <td>11.199208</td>\n",
       "      <td>11.990512</td>\n",
       "      <td>9.807656</td>\n",
       "      <td>12.312781</td>\n",
       "      <td>...</td>\n",
       "      <td>7.152194</td>\n",
       "      <td>11.513419</td>\n",
       "      <td>9.051616</td>\n",
       "      <td>10.795047</td>\n",
       "      <td>8.750298</td>\n",
       "      <td>8.105673</td>\n",
       "      <td>9.646354</td>\n",
       "      <td>6.070795</td>\n",
       "      <td>8.689229</td>\n",
       "      <td>7.896645</td>\n",
       "    </tr>\n",
       "    <tr>\n",
       "      <th>3</th>\n",
       "      <td>C1orf112</td>\n",
       "      <td>1.041941</td>\n",
       "      <td>0.972995</td>\n",
       "      <td>0.576255</td>\n",
       "      <td>0.822603</td>\n",
       "      <td>1.708106</td>\n",
       "      <td>2.082567</td>\n",
       "      <td>2.284004</td>\n",
       "      <td>1.231516</td>\n",
       "      <td>2.655328</td>\n",
       "      <td>...</td>\n",
       "      <td>3.254996</td>\n",
       "      <td>1.527118</td>\n",
       "      <td>0.978365</td>\n",
       "      <td>1.163173</td>\n",
       "      <td>0.886900</td>\n",
       "      <td>0.841076</td>\n",
       "      <td>1.793804</td>\n",
       "      <td>1.606376</td>\n",
       "      <td>1.268112</td>\n",
       "      <td>0.576221</td>\n",
       "    </tr>\n",
       "    <tr>\n",
       "      <th>4</th>\n",
       "      <td>FGR</td>\n",
       "      <td>1169.362164</td>\n",
       "      <td>783.015686</td>\n",
       "      <td>799.739017</td>\n",
       "      <td>768.773694</td>\n",
       "      <td>1609.549132</td>\n",
       "      <td>1623.412430</td>\n",
       "      <td>788.532800</td>\n",
       "      <td>1148.415057</td>\n",
       "      <td>867.683553</td>\n",
       "      <td>...</td>\n",
       "      <td>1120.049571</td>\n",
       "      <td>705.446919</td>\n",
       "      <td>1142.914480</td>\n",
       "      <td>1929.658189</td>\n",
       "      <td>2445.437877</td>\n",
       "      <td>1481.060599</td>\n",
       "      <td>1957.302082</td>\n",
       "      <td>1340.235235</td>\n",
       "      <td>1083.213222</td>\n",
       "      <td>2139.496443</td>\n",
       "    </tr>\n",
       "  </tbody>\n",
       "</table>\n",
       "<p>5 rows × 204 columns</p>\n",
       "</div>"
      ],
      "text/plain": [
       "  HGNC symbol        CT032       CT056       CA711       CA714        CA772  \\\n",
       "0      TSPAN6     0.609483    1.138307    0.303372    0.309331     0.702532   \n",
       "1        DPM1    14.752962   14.124655    8.381786   12.252395     8.657229   \n",
       "2       SCYL3     9.438976   13.877988    8.696817   12.435085     8.241027   \n",
       "3    C1orf112     1.041941    0.972995    0.576255    0.822603     1.708106   \n",
       "4         FGR  1169.362164  783.015686  799.739017  768.773694  1609.549132   \n",
       "\n",
       "         CA805       CA807        CA584       CA595  ...        CA709  \\\n",
       "0     0.548189    0.791069     0.294699    0.268829  ...     0.142801   \n",
       "1    10.722663   13.693996    10.087624   10.911048  ...    10.684007   \n",
       "2    11.199208   11.990512     9.807656   12.312781  ...     7.152194   \n",
       "3     2.082567    2.284004     1.231516    2.655328  ...     3.254996   \n",
       "4  1623.412430  788.532800  1148.415057  867.683553  ...  1120.049571   \n",
       "\n",
       "        CA710        CA712        CA753        CA781        CA785  \\\n",
       "0    0.773038     0.143074     0.153090     0.145910     0.000000   \n",
       "1   12.777021    12.943259     8.159890     8.062634     8.480573   \n",
       "2   11.513419     9.051616    10.795047     8.750298     8.105673   \n",
       "3    1.527118     0.978365     1.163173     0.886900     0.841076   \n",
       "4  705.446919  1142.914480  1929.658189  2445.437877  1481.060599   \n",
       "\n",
       "         CA787        CA789        CA793        CA804  \n",
       "0     0.157393     0.151015     0.166901     0.000000  \n",
       "1    13.776863     8.123168    14.201050     8.307122  \n",
       "2     9.646354     6.070795     8.689229     7.896645  \n",
       "3     1.793804     1.606376     1.268112     0.576221  \n",
       "4  1957.302082  1340.235235  1083.213222  2139.496443  \n",
       "\n",
       "[5 rows x 204 columns]"
      ]
     },
     "execution_count": 4,
     "metadata": {},
     "output_type": "execute_result"
    }
   ],
   "source": [
    "tpm.head()"
   ]
  },
  {
   "cell_type": "code",
   "execution_count": 28,
   "metadata": {},
   "outputs": [
    {
     "name": "stdout",
     "output_type": "stream",
     "text": [
      "Available sample:  164\n",
      "Unavailable sample:  39\n"
     ]
    }
   ],
   "source": [
    "sample_name_on_tpm = list(tpm.columns[1:])\n",
    "sample_name_on_meta = list(meta[\"sample_name\"])\n",
    "\n",
    "available_sample = list(set(sample_name_on_tpm) & set(sample_name_on_meta))\n",
    "unavailable_sample = list(set(sample_name_on_tpm) - set(sample_name_on_meta))\n",
    "\n",
    "print(\"Available sample: \", len(available_sample))\n",
    "print(\"Unavailable sample: \", len(unavailable_sample))"
   ]
  },
  {
   "cell_type": "code",
   "execution_count": 44,
   "metadata": {},
   "outputs": [
    {
     "data": {
      "text/plain": [
       "(193, 21)"
      ]
     },
     "execution_count": 44,
     "metadata": {},
     "output_type": "execute_result"
    }
   ],
   "source": [
    "meta.shape"
   ]
  },
  {
   "cell_type": "code",
   "execution_count": 36,
   "metadata": {},
   "outputs": [
    {
     "data": {
      "text/plain": [
       "19.21182266009852"
      ]
     },
     "execution_count": 36,
     "metadata": {},
     "output_type": "execute_result"
    }
   ],
   "source": [
    "len(unavailable_sample) / len(sample_name_on_tpm) * 100"
   ]
  },
  {
   "cell_type": "code",
   "execution_count": 47,
   "metadata": {},
   "outputs": [
    {
     "data": {
      "text/plain": [
       "15.025906735751295"
      ]
     },
     "execution_count": 47,
     "metadata": {},
     "output_type": "execute_result"
    }
   ],
   "source": [
    "unavailable_sample_on_tpm = list(set(sample_name_on_meta) - set(sample_name_on_tpm))\n",
    "\n",
    "len(unavailable_sample_on_tpm) / len(sample_name_on_meta) * 100"
   ]
  },
  {
   "cell_type": "code",
   "execution_count": 49,
   "metadata": {},
   "outputs": [
    {
     "data": {
      "text/plain": [
       "68"
      ]
     },
     "execution_count": 49,
     "metadata": {},
     "output_type": "execute_result"
    }
   ],
   "source": [
    "len(unavailable_sample_on_tpm) + len(unavailable_sample)"
   ]
  },
  {
   "cell_type": "code",
   "execution_count": 43,
   "metadata": {},
   "outputs": [
    {
     "data": {
      "text/plain": [
       "infection_group\n",
       "Rotavirus     52\n",
       "Ecoli         42\n",
       "Shigella      36\n",
       "Salmonella    34\n",
       "Name: count, dtype: int64"
      ]
     },
     "execution_count": 43,
     "metadata": {},
     "output_type": "execute_result"
    }
   ],
   "source": [
    "meta[meta[\"sample_name\"].isin(available_sample)][\"infection_group\"].value_counts()"
   ]
  },
  {
   "cell_type": "code",
   "execution_count": 35,
   "metadata": {},
   "outputs": [
    {
     "data": {
      "text/plain": [
       "Index(['lib_id', 'sample_name', 'infection_group', 'age, months', 'age_group',\n",
       "       'who_score', 'sex', 'height, m', 'weight, kg', 'wbc, 10^6/L',\n",
       "       'neutrophils, 10^6/L', 'lymphocytes, 10^6/L', 'monocytes, 10^6/L',\n",
       "       'eosinophils, 10^6/L', 'basophils, 10^6/L', 'red blood cell, 10^6/uL',\n",
       "       'platelets, cells/uL', 'highest_temp', 'duration_days',\n",
       "       'days_past_onset', 'rotavirus vaccine doses'],\n",
       "      dtype='object')"
      ]
     },
     "execution_count": 35,
     "metadata": {},
     "output_type": "execute_result"
    }
   ],
   "source": [
    "meta.columns"
   ]
  }
 ],
 "metadata": {
  "kernelspec": {
   "display_name": "DataScience",
   "language": "python",
   "name": "python3"
  },
  "language_info": {
   "codemirror_mode": {
    "name": "ipython",
    "version": 3
   },
   "file_extension": ".py",
   "mimetype": "text/x-python",
   "name": "python",
   "nbconvert_exporter": "python",
   "pygments_lexer": "ipython3",
   "version": "3.11.0"
  }
 },
 "nbformat": 4,
 "nbformat_minor": 2
}
